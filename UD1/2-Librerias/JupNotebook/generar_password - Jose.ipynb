{
 "cells": [
  {
   "cell_type": "code",
   "execution_count": 1,
   "id": "53768e95-308e-4b55-9f3b-23e4f3f81a13",
   "metadata": {},
   "outputs": [],
   "source": [
    "import random"
   ]
  },
  {
   "cell_type": "code",
   "execution_count": 2,
   "id": "9c4e3c81-9b91-4b81-bc6e-5eb0b566e7ba",
   "metadata": {},
   "outputs": [],
   "source": [
    "import string"
   ]
  },
  {
   "cell_type": "code",
   "execution_count": 3,
   "id": "902573ac-8de7-4716-b9e7-a7a0378ac53a",
   "metadata": {},
   "outputs": [],
   "source": [
    "caracteres = string.ascii_letters + string.digits + \"+-*/¡?)()/&%$·\\\"ºª\""
   ]
  },
  {
   "cell_type": "code",
   "execution_count": 4,
   "id": "6521fdec-0661-4cf8-bf00-9cb43905fb71",
   "metadata": {},
   "outputs": [
    {
     "name": "stdin",
     "output_type": "stream",
     "text": [
      "(X para salir) Cuantos caracteres quieres generar?: 12\n"
     ]
    },
    {
     "name": "stdout",
     "output_type": "stream",
     "text": [
      "12 0123456789\n"
     ]
    }
   ],
   "source": [
    "num=input('(X para salir) Cuantos caracteres quieres generar?:')\n",
    "print(num,string.digits)"
   ]
  },
  {
   "cell_type": "code",
   "execution_count": 10,
   "id": "6d0c11f0-6eb9-48d6-ae82-d63e7d8486a4",
   "metadata": {},
   "outputs": [
    {
     "name": "stdout",
     "output_type": "stream",
     "text": [
      "96E-V52X¡6bg\n"
     ]
    }
   ],
   "source": [
    "num=int(num)\n",
    "pass_word=''\n",
    "for i in range(0,num):\n",
    "    pass_word = pass_word + random.choice(caracteres)\n",
    "print(pass_word)"
   ]
  },
  {
   "cell_type": "code",
   "execution_count": null,
   "id": "6d6d94ab-c3c3-40f7-9fbb-d77f04b4550e",
   "metadata": {},
   "outputs": [],
   "source": []
  }
 ],
 "metadata": {
  "kernelspec": {
   "display_name": "Python 3 (ipykernel)",
   "language": "python",
   "name": "python3"
  },
  "language_info": {
   "codemirror_mode": {
    "name": "ipython",
    "version": 3
   },
   "file_extension": ".py",
   "mimetype": "text/x-python",
   "name": "python",
   "nbconvert_exporter": "python",
   "pygments_lexer": "ipython3",
   "version": "3.12.4"
  }
 },
 "nbformat": 4,
 "nbformat_minor": 5
}
